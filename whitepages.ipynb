{
 "cells": [
  {
   "cell_type": "code",
   "execution_count": 27,
   "metadata": {},
   "outputs": [],
   "source": [
    "import json\n",
    "import requests\n",
    "from bs4 import BeautifulSoup\n",
    "from latest_user_agents import get_random_user_agent\n",
    "ua = get_random_user_agent()\n",
    "import requests\n",
    "import pandas as pd\n",
    "#Requests Users"
   ]
  },
  {
   "cell_type": "code",
   "execution_count": null,
   "metadata": {},
   "outputs": [],
   "source": []
  },
  {
   "cell_type": "code",
   "execution_count": 96,
   "metadata": {},
   "outputs": [],
   "source": [
    "first_names = df['First Name'].to_list()\n",
    "last_names = df['Last Name'].to_list()\n",
    "middle_names = df['Middle Name'].to_list()\n",
    "cities = df['City'].to_list()\n",
    "states = df['State'].to_list()\n",
    "\n",
    "names = []\n",
    "for x,y,z in zip(first_names, last_names, middle_names):\n",
    "    name = f'{x}-{z}-{y}'\n",
    "    name = name.replace('-nan', '')\n",
    "    names.append(name)\n",
    "locations = []\n",
    "for i,j in zip(cities, states):\n",
    "    location = f'{i}-{j}'\n",
    "    loaction = location.replace('-nan', '')\n",
    "    locations.append(location)"
   ]
  },
  {
   "cell_type": "code",
   "execution_count": 89,
   "metadata": {},
   "outputs": [],
   "source": [
    "headers = {\n",
    "    'User-Agent': ua\n",
    "}\n",
    "response = requests.get('https://www.411.com/name/Mary-M-Long/Pasadena-MD', headers=headers )\n",
    "soup = BeautifulSoup(response.text, 'lxml')"
   ]
  },
  {
   "cell_type": "code",
   "execution_count": 90,
   "metadata": {},
   "outputs": [
    {
     "data": {
      "text/plain": [
       "('Mary Kathryn Long', '60s', 'Cool Breeze Ct, Pasadena, MD')"
      ]
     },
     "execution_count": 90,
     "metadata": {},
     "output_type": "execute_result"
    }
   ],
   "source": [
    "soup.select_one('.name-wrap')\n",
    "soup.select_one('.person-age')\n",
    "box = soup.select_one('.serp-card-wrapper')\n",
    "name = box.select_one('.name-wrap').text.split('  ')\n",
    "name = name[0]\n",
    "name = name.strip()\n",
    "age = box.select_one('.person-age').text\n",
    "address = box.select_one('.address-item').text.strip()\n",
    "name, age, address"
   ]
  },
  {
   "cell_type": "code",
   "execution_count": 102,
   "metadata": {},
   "outputs": [
    {
     "name": "stdout",
     "output_type": "stream",
     "text": [
      "Name 1\n",
      "Name 2\n",
      "Name 3\n",
      "Name 4\n",
      "Name 5\n",
      "Name 6\n",
      "Name 7\n",
      "Name 8\n",
      "Name 9\n",
      "Name 10\n",
      "                     Name  Age                            Address\n",
      "0         Mary Lynn Sykes  60s       Spring Grove Ave, Toledo, OH\n",
      "1           Eric Zentgraf  60s        Crilley Rd, Glen Burnie, MD\n",
      "2    Mary Cynthia Hawkins  60s         Edgewood Ave, Pasadena, MD\n",
      "3    Marjorie Mary Snyder  80+        Riggs Ave, Severna Park, MD\n",
      "4       Mary Kathryn Long  60s       Cool Breeze Ct, Pasadena, MD\n",
      "5      Gardner F Speer Jr  80+    Magothy Bridge Rd, Pasadena, MD\n",
      "6        Chee Chee Benway  70s         Bussenius Rd, Pasadena, MD\n",
      "7      Cindy Anna Hawkins  60s  Key Turn St, District Heights, MD\n",
      "8       Lois Beth Johnson  60s         Post Oak Rd, Annapolis, MD\n",
      "9  Irene Luise Barnhouser  80+      Poplar Ridge Rd, Pasadena, MD\n"
     ]
    }
   ],
   "source": [
    "n = 0\n",
    "item_list = []\n",
    "for x,y in zip(names[:10], locations[:10]):\n",
    "    n = n + 1\n",
    "    headers = {\n",
    "    'User-Agent': ua\n",
    "    }\n",
    "    response = requests.get(f'https://www.411.com/name/{x}/{y}', headers=headers)\n",
    "    print(f'Name {n}')\n",
    "    soup = BeautifulSoup(response.text, 'lxml')\n",
    "\n",
    "    box = soup.select_one('.serp-card-wrapper')\n",
    "    try:\n",
    "        name = box.select_one('.name-wrap').text.split('  ')\n",
    "        name = name[0]\n",
    "        name = name.strip()\n",
    "    except:\n",
    "        name = None\n",
    "    try:\n",
    "        age = box.select_one('.person-age').text\n",
    "    except:\n",
    "        age = None\n",
    "    try:\n",
    "        address = box.select_one('.address-item').text.strip()\n",
    "    except:\n",
    "        address = None\n",
    "    item = {\n",
    "        'Name': name,\n",
    "        'Age': age,\n",
    "        'Address': address\n",
    "    }\n",
    "    item_list.append(item)\n",
    "\n",
    "\n",
    "df = pd.DataFrame(item_list)\n",
    "print(df)"
   ]
  },
  {
   "cell_type": "code",
   "execution_count": null,
   "metadata": {},
   "outputs": [],
   "source": []
  },
  {
   "cell_type": "code",
   "execution_count": null,
   "metadata": {},
   "outputs": [],
   "source": []
  }
 ],
 "metadata": {
  "kernelspec": {
   "display_name": "khaliq",
   "language": "python",
   "name": "python3"
  },
  "language_info": {
   "codemirror_mode": {
    "name": "ipython",
    "version": 3
   },
   "file_extension": ".py",
   "mimetype": "text/x-python",
   "name": "python",
   "nbconvert_exporter": "python",
   "pygments_lexer": "ipython3",
   "version": "3.10.6"
  },
  "orig_nbformat": 4,
  "vscode": {
   "interpreter": {
    "hash": "f083f4f62c7ff79ae1066b6303fc95835897d0a126dd6ae7a42191c9ceef673f"
   }
  }
 },
 "nbformat": 4,
 "nbformat_minor": 2
}
